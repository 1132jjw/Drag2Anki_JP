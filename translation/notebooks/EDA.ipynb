{
 "cells": [
  {
   "cell_type": "code",
   "execution_count": 4,
   "id": "7bc63ee8",
   "metadata": {},
   "outputs": [],
   "source": [
    "import pandas as pd\n",
    "import numpy as np\n",
    "import matplotlib.pyplot as plt\n",
    "import seaborn as sns"
   ]
  },
  {
   "cell_type": "code",
   "execution_count": 6,
   "id": "45347944",
   "metadata": {},
   "outputs": [],
   "source": [
    "from datasets import load_dataset\n",
    "import os\n",
    "if not os.path.exists(\"../data/train.csv\"):\n",
    "    ds = load_dataset(\"traintogpb/aihub-koja-translation-integrated-large-4.3m\")\n",
    "    train = ds['train'].to_pandas()\n",
    "    valid = ds['validation'].to_pandas()\n",
    "    test = ds['test'].to_pandas()\n",
    "    train.to_csv(\"../data/train.csv\", index=False)\n",
    "    valid.to_csv(\"../data/valid.csv\", index=False)\n",
    "    test.to_csv(\"../data/test.csv\", index=False)\n",
    "else:\n",
    "    train = pd.read_csv(\"../data/train.csv\")\n",
    "    valid = pd.read_csv(\"../data/valid.csv\")\n",
    "    test = pd.read_csv(\"../data/test.csv\")"
   ]
  },
  {
   "cell_type": "code",
   "execution_count": 7,
   "id": "dd3c95cf",
   "metadata": {},
   "outputs": [
    {
     "name": "stdout",
     "output_type": "stream",
     "text": [
      "source\n",
      "aihub-127      1348800\n",
      "aihub-546      1342563\n",
      "aihub-71263     886225\n",
      "aihub-71593     210919\n",
      "aihub-71493     122942\n",
      "aihub-71524     118968\n",
      "aihub-71591     111778\n",
      "aihub-71496      80249\n",
      "aihub-71498      79231\n",
      "aihub-71411      25790\n",
      "Name: count, dtype: int64\n",
      "source\n",
      "aihub-127      1000\n",
      "aihub-546      1000\n",
      "aihub-71263    1000\n",
      "aihub-71411    1000\n",
      "aihub-71493    1000\n",
      "aihub-71496    1000\n",
      "aihub-71498    1000\n",
      "aihub-71524    1000\n",
      "aihub-71591    1000\n",
      "aihub-71593    1000\n",
      "Name: count, dtype: int64\n",
      "source\n",
      "aihub-127      200\n",
      "aihub-546      200\n",
      "aihub-71263    200\n",
      "aihub-71411    200\n",
      "aihub-71493    200\n",
      "aihub-71496    200\n",
      "aihub-71498    200\n",
      "aihub-71524    200\n",
      "aihub-71591    200\n",
      "aihub-71593    200\n",
      "Name: count, dtype: int64\n"
     ]
    }
   ],
   "source": [
    "print(train['source'].value_counts())\n",
    "print(valid['source'].value_counts())\n",
    "print(test['source'].value_counts())"
   ]
  },
  {
   "cell_type": "markdown",
   "id": "0180b629",
   "metadata": {},
   "source": [
    "# validation, test는 개수가 동일한 이유\n",
    "train data의 도메인 비율대로 validation, test 데이터를 뽑게되면 데이터가 적은 도메인은 validation이 너무 적어서 통계적 신뢰도가 떨어질 수 있음.\n",
    "도메인별 성능 비교과 불균형해지고, 특정 도메인에서 모델이 얼마나 잘하는지 파악이 힘들어질 수 있음.  "
   ]
  },
  {
   "cell_type": "markdown",
   "id": "9d037040",
   "metadata": {},
   "source": [
    "# TODO\n",
    "- 데이터 정제\n",
    "- 데이터 정규화 (패딩)\n",
    "- 토크나이징"
   ]
  },
  {
   "cell_type": "code",
   "execution_count": null,
   "id": "2f073cbf",
   "metadata": {},
   "outputs": [],
   "source": []
  }
 ],
 "metadata": {
  "kernelspec": {
   "display_name": "base",
   "language": "python",
   "name": "python3"
  },
  "language_info": {
   "codemirror_mode": {
    "name": "ipython",
    "version": 3
   },
   "file_extension": ".py",
   "mimetype": "text/x-python",
   "name": "python",
   "nbconvert_exporter": "python",
   "pygments_lexer": "ipython3",
   "version": "3.8.16"
  }
 },
 "nbformat": 4,
 "nbformat_minor": 5
}

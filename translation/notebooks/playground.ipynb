{
 "cells": [
  {
   "cell_type": "code",
   "execution_count": 1,
   "id": "772eabcc",
   "metadata": {},
   "outputs": [
    {
     "name": "stdout",
     "output_type": "stream",
     "text": [
      "data already exists\n"
     ]
    }
   ],
   "source": [
    "import pandas as pd\n",
    "from datasets import load_dataset\n",
    "import os\n",
    "if not os.path.exists(\"../data/train.csv\"):\n",
    "    ds = load_dataset(\"traintogpb/aihub-koja-translation-integrated-large-4.3m\")\n",
    "    train = ds['train'].to_pandas()\n",
    "    valid = ds['validation'].to_pandas()\n",
    "    test = ds['test'].to_pandas()\n",
    "    train.to_csv(\"../data/train.csv\", index=False)\n",
    "    valid.to_csv(\"../data/valid.csv\", index=False)\n",
    "    test.to_csv(\"../data/test.csv\", index=False)\n",
    "else:\n",
    "    print(\"data already exists\")\n",
    "    train = pd.read_csv(\"../data/train.csv\")\n",
    "    valid = pd.read_csv(\"../data/valid.csv\")\n",
    "    test = pd.read_csv(\"../data/test.csv\")"
   ]
  },
  {
   "cell_type": "code",
   "execution_count": null,
   "id": "2482d31e",
   "metadata": {},
   "outputs": [],
   "source": [
    "from konlpy.tag import Okt"
   ]
  },
  {
   "cell_type": "code",
   "execution_count": null,
   "id": "513c807e",
   "metadata": {},
   "outputs": [],
   "source": [
    "from konlpy.tag import Okt\n",
    "import openai\n",
    "import requests\n",
    "from fugashi import Tagger\n",
    "import sacrebleu\n",
    "from dotenv import load_dotenv\n",
    "import os\n",
    "\n",
    "load_dotenv()\n",
    "\n",
    "def ja_tokenizing(sentence=\"私は学校に行きます。\"):\n",
    "    tagger = Tagger()  # 기본 설정, unidic-lite 사전 사용\n",
    "    tokens = [word.surface for word in tagger(sentence)]\n",
    "    return tokens\n",
    "\n",
    "\n",
    "def ko_tokenizing(results):\n",
    "    okt = Okt()\n",
    "    tokenized = []\n",
    "    for result in results:\n",
    "        tokens_ko = okt.morphs(result['ko'])\n",
    "        tokens_tr = okt.morphs(result['translation'])\n",
    "        tokenized.append((tokens_ko, tokens_tr))\n",
    "    return tokenized\n",
    "\n",
    "deepl_api_key = os.getenv(\"DEEPL_API_KEY\")\n",
    "\n",
    "# deepL API\n",
    "\n",
    "def translate_with_deepL(message):\n",
    "    url_for_deepL = \"https://api-free.deepl.com/v2/translate\"\n",
    "    params = {'auth_key': deepl_api_key,  # 여기에 본인의 DeepL API 키를 입력하세요\n",
    "              'text': message,\n",
    "              'source_lang': 'JA',\n",
    "              'target_lang': 'KO'}\n",
    "    response = requests.post(url_for_deepL, data=params)\n",
    "    if response.status_code == 200:\n",
    "        translation = response.json()['translations'][0]['text']\n",
    "        return translation\n",
    "    else:\n",
    "        print(f\"DeepL API 요청 실패: {response.status_code}, {response.text}\")\n",
    "        return None\n",
    "\n",
    "openai_api_key = os.getenv(\"OPENAI_API_KEY\")\n",
    "\n",
    "# GPT API\n",
    "def translate_with_gpt(message):\n",
    "    client = openai.OpenAI(api_key=openai_api_key)\n",
    "    response = client.chat.completions.create(\n",
    "        model=\"gpt-4.1-nano-2025-04-14\",  # gpt-4o 또는 최신 지원 모델명 사용\n",
    "        messages=[\n",
    "            {\"role\": \"system\", \"content\": \"앞으로 당신은 한국어를 일본어로 번역하는 역할을 합니다. 번역은 자연스럽고 정확해야 합니다.\"},\n",
    "            {\"role\": \"user\", \"content\": message}\n",
    "        ]\n",
    "    )\n",
    "    return response.choices[0].message.content\n",
    "\n",
    "def get_bleu(tokenized):\n",
    "    hypothesis = []\n",
    "    references = []\n",
    "    for tokens_ko, tokens_tr in tokenized:\n",
    "        hypothesis.append(\" \".join(tokens_tr))\n",
    "        references.append(\" \".join(tokens_ko))\n",
    "    \n",
    "    bleu = sacrebleu.corpus_bleu(hypothesis, references)\n",
    "    print(f\"전체 샘플 BLEU: {bleu.score:.2f}\")\n",
    "    return bleu\n"
   ]
  },
  {
   "cell_type": "code",
   "execution_count": 18,
   "id": "b4b32fa7",
   "metadata": {},
   "outputs": [
    {
     "name": "stdout",
     "output_type": "stream",
     "text": [
      "test_sample['ko'][0]: 결과는 조직 내 구성원 간의 경쟁은 항상 긍정적인 결과를 가져오는 것이 아니라 특정한 조건 하에서 긍정적으로 작용한다는 것을 시사한다.\n",
      "test_sample['ja'][0]: 結果は組織内構成員間の競争は常に肯定的な結果をもたらすのではなく、特定の条件下で肯定的に作用することを示唆する。\n",
      "GPT 번역 결과: 結果は、組織内の構成員間の競争が常に肯定的な結果をもたらすわけではなく、特定の条件下で肯定的に作用することを示唆している。\n",
      "\n",
      "전체 샘플 BLEU: 0.00\n"
     ]
    }
   ],
   "source": [
    "import numpy as np\n",
    "import pandas as pd\n",
    "\n",
    "np.random.seed(42)\n",
    "test_sample = test.sample(frac=1, random_state=42).reset_index(drop=True).head(10)\n",
    "models = [translate_with_gpt, translate_with_deepL]\n",
    "results = []\n",
    "for i in range(1):\n",
    "    print(f\"test_sample['ko'][{i}]: {test_sample['ko'][i]}\")\n",
    "    print(f\"test_sample['ja'][{i}]: {test_sample['ja'][i]}\")\n",
    "    translation = models[0](test_sample['ja'][i])\n",
    "    print(f\"GPT 번역 결과: {translation}\\n\")\n",
    "    results.append({\n",
    "        \"ko\": test_sample['ko'][i],\n",
    "        \"ja\": test_sample['ja'][i],\n",
    "        \"translation\": translation\n",
    "    })\n",
    "    \n",
    "tokenized = ko_tokenizing(results)\n",
    "\n",
    "bleu_score = get_bleu(tokenized)"
   ]
  },
  {
   "cell_type": "code",
   "execution_count": null,
   "id": "5bd4b601",
   "metadata": {},
   "outputs": [],
   "source": []
  }
 ],
 "metadata": {
  "kernelspec": {
   "display_name": "base",
   "language": "python",
   "name": "python3"
  },
  "language_info": {
   "codemirror_mode": {
    "name": "ipython",
    "version": 3
   },
   "file_extension": ".py",
   "mimetype": "text/x-python",
   "name": "python",
   "nbconvert_exporter": "python",
   "pygments_lexer": "ipython3",
   "version": "3.10.6"
  }
 },
 "nbformat": 4,
 "nbformat_minor": 5
}

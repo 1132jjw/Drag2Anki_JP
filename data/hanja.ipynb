{
 "cells": [
  {
   "cell_type": "code",
   "execution_count": 15,
   "id": "c0d75739",
   "metadata": {},
   "outputs": [],
   "source": [
    "import csv\n",
    "import json\n",
    "import ast\n",
    "\n",
    "csvfile = open('hanja.csv', encoding='utf-8')\n",
    "jsonfile = open('hanja.json', 'w', encoding='utf-8')\n",
    "\n",
    "reader = csv.DictReader(csvfile)\n",
    "out = {}\n",
    "for row in reader:\n",
    "    try:\n",
    "        meaning = ast.literal_eval(row['meaning'])\n",
    "        뜻 = meaning[0][0][0]\n",
    "    except:\n",
    "        뜻 = \"\"\n",
    "    out[row['hanja']] = {\n",
    "        \"meaning\": 뜻,\n",
    "        \"reading\": row['main_sound'],\n",
    "        \"level\": row['level'],\n",
    "        \"radical\": row['radical'],\n",
    "        \"strokes\": row['strokes'],\n",
    "        \"total_strokes\": row['total_strokes']\n",
    "    }\n",
    "json.dump(out, jsonfile, ensure_ascii=False, indent=2)\n"
   ]
  },
  {
   "cell_type": "code",
   "execution_count": null,
   "id": "4d56f79b",
   "metadata": {},
   "outputs": [],
   "source": []
  }
 ],
 "metadata": {
  "kernelspec": {
   "display_name": "base",
   "language": "python",
   "name": "python3"
  },
  "language_info": {
   "codemirror_mode": {
    "name": "ipython",
    "version": 3
   },
   "file_extension": ".py",
   "mimetype": "text/x-python",
   "name": "python",
   "nbconvert_exporter": "python",
   "pygments_lexer": "ipython3",
   "version": "3.12.2"
  }
 },
 "nbformat": 4,
 "nbformat_minor": 5
}
